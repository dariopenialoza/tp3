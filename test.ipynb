{
 "cells": [
  {
   "cell_type": "code",
   "execution_count": 145,
   "metadata": {},
   "outputs": [
    {
     "name": "stdout",
     "output_type": "stream",
     "text": [
      "Función lógica AND\n",
      "Pesos: w1=0.3352993131200776 w2=0.06242816355855646\n",
      "Función lógica XOR\n",
      "Pesos: w1=0.38983224125783533 w2=0.5577189108631895\n"
     ]
    }
   ],
   "source": [
    "from main import main\n",
    "\n",
    "main()"
   ]
  },
  {
   "cell_type": "code",
   "execution_count": 4,
   "metadata": {},
   "outputs": [
    {
     "data": {
      "text/plain": [
       "array([[   nan,    nan,    nan,    nan],\n",
       "       [ 1.2  , -0.8  ,  0.   , 21.755],\n",
       "       [ 1.2  ,  0.   , -0.8  ,  7.176],\n",
       "       [ 1.2  , -0.8  ,  1.   , 43.045],\n",
       "       [ 0.   ,  1.2  , -0.8  ,  2.875],\n",
       "       [ 7.9  ,  1.   ,  0.   , 26.503],\n",
       "       [ 0.4  ,  0.   ,  2.7  , 68.568],\n",
       "       [ 0.   ,  0.4  ,  2.7  , 61.301],\n",
       "       [-1.3  ,  3.23 ,  3.   , 23.183],\n",
       "       [ 0.4  ,  2.7  ,  0.   ,  2.82 ],\n",
       "       [ 0.4  ,  2.7  ,  2.   , 17.654],\n",
       "       [-1.3  ,  0.   ,  3.23 , 72.512],\n",
       "       [ 0.   , -1.3  ,  3.23 , 88.184],\n",
       "       [ 7.9  ,  1.   , -2.   ,  4.653],\n",
       "       [ 1.8  ,  0.   ,  1.6  , 49.   ],\n",
       "       [ 0.   , -2.   ,  2.   , 76.852],\n",
       "       [-0.5  ,  0.6  ,  0.   ,  7.871],\n",
       "       [ 0.   ,  1.8  ,  1.6  , 18.543],\n",
       "       [-2.   ,  2.   ,  0.   ,  2.66 ],\n",
       "       [-0.5  ,  0.6  ,  2.5  , 51.   ],\n",
       "       [ 7.9  ,  0.   ,  1.   , 64.107],\n",
       "       [-1.3  ,  3.23 ,  0.   ,  1.48 ],\n",
       "       [ 0.   ,  7.9  ,  1.   ,  0.32 ],\n",
       "       [-2.   ,  0.   ,  2.   , 40.131],\n",
       "       [-2.   ,  2.   , -1.   ,  0.995],\n",
       "       [ 0.   , -0.5  ,  0.6  , 24.974],\n",
       "       [ 1.8  ,  1.6  ,  1.3  , 21.417],\n",
       "       [-0.5  ,  0.   ,  0.6  , 18.243],\n",
       "       [ 1.8  ,  1.6  ,  0.   ,  6.914]])"
      ]
     },
     "execution_count": 4,
     "metadata": {},
     "output_type": "execute_result"
    }
   ],
   "source": [
    "import numpy as np\n",
    "datos = np.genfromtxt('TP3-ej2-conjunto.csv', delimiter=\",\")\n",
    "datos"
   ]
  },
  {
   "cell_type": "code",
   "execution_count": 159,
   "metadata": {},
   "outputs": [
    {
     "data": {
      "text/plain": [
       "array([ 7409.84863281,  -327.92211914, 15557.765625  ])"
      ]
     },
     "execution_count": 159,
     "metadata": {},
     "output_type": "execute_result"
    }
   ],
   "source": [
    "import numpy as np\n",
    "\n",
    "def compute_error_step(x, y, w):\n",
    "\n",
    "    error = 0\n",
    "    for u in range(x.shape[0]):\n",
    "        z = 0\n",
    "        for i in range(x.shape[1]):\n",
    "            z = z + w[i] * x[u, i] \n",
    "        y_pred = 1 if z >= 0 else 0      # Activador escalon\n",
    "        error += (y_pred - y[u])**2\n",
    "\n",
    "    return error / len(x)\n",
    "\n",
    "\n",
    "import sys\n",
    "import numpy as np\n",
    "import random\n",
    "import pandas as pd\n",
    "\n",
    "# Ruta del archivo CSV\n",
    "archivo_csv = \"TP3-ej2-conjunto.csv\"\n",
    "# Leer datos CSV en un DataFrame de pandas\n",
    "datos_df = pd.read_csv(archivo_csv)\n",
    "# Convertir DataFrame a un array de NumPy\n",
    "datos_array = datos_df.to_numpy()\n",
    "# Extract feature columns (x1, x2, x3) into 'x' array\n",
    "x = datos_array[:, :-1]  # Assuming 'y' is the last column\n",
    "\n",
    "# Extract target column (y) into 'y' array\n",
    "y = datos_array[:, -1]\n",
    "\n",
    "eta = 0.1\n",
    "epoch = 100   \n",
    "\n",
    "def perceptron_simple_step(x, y, eta, epoch):\n",
    "    # Inicializar los pesos aleatoriamente\n",
    "    w = np.array([random.random() for i in range(x.shape[1])]) \n",
    "    w_new = np.zeros_like(w, dtype=np.float32)\n",
    "\n",
    "    error = 0       \n",
    "    min_error = sys.maxsize \n",
    "    w_min = np.zeros_like(w, dtype=np.float32)   \n",
    "\n",
    "    for u in range(len(x)):\n",
    "        c = 0           # corrida\n",
    "        while (min_error > 0) and (c < epoch):\n",
    "            # Calcular la salida bruta\n",
    "            z=0\n",
    "            for i in range(x.shape[1]):\n",
    "                z = z + w[i] * x[u, i] \n",
    "\n",
    "            # Aplicar la función de activación escalón\n",
    "            y_pred = 1 if z >= 0 else 0\n",
    "\n",
    "            # Actualizar los pesos\n",
    "            for j in range(x.shape[1]):\n",
    "                w_new[j] = w[j] + eta * (y[u] - y_pred) * x[u, j]\n",
    "                # Actualizar los pesos\n",
    "                w[j] = w_new[j]\n",
    "\n",
    "            error = compute_error_step(x, y, w)\n",
    "            if error < min_error:\n",
    "                min_error = error\n",
    "                w_min = w\n",
    "\n",
    "            c += 1\n",
    "    return w_min\n",
    "\n",
    "perceptron_simple_step(x,y,eta,epoch)"
   ]
  },
  {
   "cell_type": "code",
   "execution_count": 24,
   "metadata": {},
   "outputs": [
    {
     "data": {
      "text/plain": [
       "array(2)"
      ]
     },
     "execution_count": 24,
     "metadata": {},
     "output_type": "execute_result"
    }
   ],
   "source": [
    "import numpy as np\n",
    "import random\n",
    "\n",
    "alpha = 0.1\n",
    "x = np.array([[1, 2], [3, 4]])\n",
    "y = np.array([-1, -1, -1, 1])\n",
    "w = np.array([1, 1])\n",
    "w_new = np.array(x.shape[1]) \n",
    "\n",
    "w_new"
   ]
  },
  {
   "cell_type": "code",
   "execution_count": 43,
   "metadata": {},
   "outputs": [
    {
     "name": "stdout",
     "output_type": "stream",
     "text": [
      "0\n",
      "1\n"
     ]
    }
   ],
   "source": [
    "for i in range(2):\n",
    "        print(i)"
   ]
  },
  {
   "cell_type": "code",
   "execution_count": 46,
   "metadata": {},
   "outputs": [
    {
     "name": "stdout",
     "output_type": "stream",
     "text": [
      "0\n",
      "1\n"
     ]
    }
   ],
   "source": [
    "x = np.array([[1, 1], [4, 5]])\n",
    "\n",
    "for i in range(x.shape[1]):\n",
    "        print(i)"
   ]
  },
  {
   "cell_type": "code",
   "execution_count": 94,
   "metadata": {},
   "outputs": [
    {
     "data": {
      "text/plain": [
       "array([[ 1.2  , -0.8  ,  0.   , 21.755],\n",
       "       [ 1.2  ,  0.   , -0.8  ,  7.176],\n",
       "       [ 1.2  , -0.8  ,  1.   , 43.045],\n",
       "       [ 0.   ,  1.2  , -0.8  ,  2.875],\n",
       "       [ 7.9  ,  1.   ,  0.   , 26.503],\n",
       "       [ 0.4  ,  0.   ,  2.7  , 68.568],\n",
       "       [ 0.   ,  0.4  ,  2.7  , 61.301],\n",
       "       [-1.3  ,  3.23 ,  3.   , 23.183],\n",
       "       [ 0.4  ,  2.7  ,  0.   ,  2.82 ],\n",
       "       [ 0.4  ,  2.7  ,  2.   , 17.654],\n",
       "       [-1.3  ,  0.   ,  3.23 , 72.512],\n",
       "       [ 0.   , -1.3  ,  3.23 , 88.184],\n",
       "       [ 7.9  ,  1.   , -2.   ,  4.653],\n",
       "       [ 1.8  ,  0.   ,  1.6  , 49.   ],\n",
       "       [ 0.   , -2.   ,  2.   , 76.852],\n",
       "       [-0.5  ,  0.6  ,  0.   ,  7.871],\n",
       "       [ 0.   ,  1.8  ,  1.6  , 18.543],\n",
       "       [-2.   ,  2.   ,  0.   ,  2.66 ],\n",
       "       [-0.5  ,  0.6  ,  2.5  , 51.   ],\n",
       "       [ 7.9  ,  0.   ,  1.   , 64.107],\n",
       "       [-1.3  ,  3.23 ,  0.   ,  1.48 ],\n",
       "       [ 0.   ,  7.9  ,  1.   ,  0.32 ],\n",
       "       [-2.   ,  0.   ,  2.   , 40.131],\n",
       "       [-2.   ,  2.   , -1.   ,  0.995],\n",
       "       [ 0.   , -0.5  ,  0.6  , 24.974],\n",
       "       [ 1.8  ,  1.6  ,  1.3  , 21.417],\n",
       "       [-0.5  ,  0.   ,  0.6  , 18.243],\n",
       "       [ 1.8  ,  1.6  ,  0.   ,  6.914]])"
      ]
     },
     "execution_count": 94,
     "metadata": {},
     "output_type": "execute_result"
    }
   ],
   "source": [
    "import pandas as pd\n",
    "\n",
    "# Ruta del archivo CSV\n",
    "archivo_csv = \"TP3-ej2-conjunto.csv\"\n",
    "\n",
    "# Leer datos CSV en un DataFrame de pandas\n",
    "datos_df = pd.read_csv(archivo_csv)\n",
    "\n",
    "# Convertir DataFrame a un array de NumPy\n",
    "datos_array = datos_df.to_numpy()\n",
    "\n",
    "datos_array"
   ]
  },
  {
   "cell_type": "code",
   "execution_count": 114,
   "metadata": {},
   "outputs": [
    {
     "data": {
      "text/plain": [
       "(3,)"
      ]
     },
     "execution_count": 114,
     "metadata": {},
     "output_type": "execute_result"
    }
   ],
   "source": [
    "import numpy as np\n",
    "import random\n",
    "import pandas as pd\n",
    "\n",
    "# Ruta del archivo CSV\n",
    "archivo_csv = \"TP3-ej2-conjunto.csv\"\n",
    "# Leer datos CSV en un DataFrame de pandas\n",
    "datos_df = pd.read_csv(archivo_csv)\n",
    "# Convertir DataFrame a un array de NumPy\n",
    "datos_array = datos_df.to_numpy()\n",
    "# Extract feature columns (x1, x2, x3) into 'x' array\n",
    "x = datos_array[:, :-1]  # Assuming 'y' is the last column\n",
    "\n",
    "# Extract target column (y) into 'y' array\n",
    "y = datos_array[:, -1]\n",
    "\n",
    "w = np.array([random.random() for i in range(x.shape[1])]) \n",
    "w_new = np.zeros_like(w, dtype=np.float32)\n",
    "\n"
   ]
  },
  {
   "cell_type": "code",
   "execution_count": 151,
   "metadata": {},
   "outputs": [
    {
     "name": "stdout",
     "output_type": "stream",
     "text": [
      "1.0\n",
      "1.0\n",
      "2.0\n"
     ]
    }
   ],
   "source": [
    "import numpy as np\n",
    "\n",
    "x = np.array([[1, 2], [3, 4]])\n",
    "y = np.array([-1, 1])\n",
    "w = np.array([1, 1])\n",
    "\n",
    "\n",
    "error = 0\n",
    "y_pred = np.zeros_like(w, dtype=np.float32)\n",
    "for u in range(x.shape[0]):\n",
    "    z=0\n",
    "    for i in range(x.shape[1]):\n",
    "        z = z + w[i] * x[u, i] \n",
    "    y_pred[u] = 1 if z >= 0 else 0\n",
    "    print(y_pred[u])\n",
    "    error += (y_pred[u] - y[u])**2\n",
    "\n",
    "e = error / len(x)\n",
    "\n",
    "print(e)\n"
   ]
  }
 ],
 "metadata": {
  "kernelspec": {
   "display_name": "Python 3",
   "language": "python",
   "name": "python3"
  },
  "language_info": {
   "codemirror_mode": {
    "name": "ipython",
    "version": 3
   },
   "file_extension": ".py",
   "mimetype": "text/x-python",
   "name": "python",
   "nbconvert_exporter": "python",
   "pygments_lexer": "ipython3",
   "version": "3.12.2"
  }
 },
 "nbformat": 4,
 "nbformat_minor": 2
}
