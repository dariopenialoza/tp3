{
 "cells": [
  {
   "cell_type": "code",
   "execution_count": 1,
   "metadata": {},
   "outputs": [
    {
     "name": "stdout",
     "output_type": "stream",
     "text": [
      "Función lógica AND\n",
      "Con Perceptron con 2 variables\n",
      "En la corrida 0 del la fila 0 con error=1.5\n",
      "guarde estos Pesos: w1=1.0477102011984707 w2=0.06179167603680277 \n",
      "Pesos finales: w1=1.0477102011984707 w2=0.06179167603680277\n",
      "\n",
      "Con Perceptron con 'u' variables\n",
      "En la corrida 0 del la fila 0 con error=1.5\n",
      "Guarde estos valores: [1.09328353 0.23051921]\n",
      "Pesos finales: [1.09328353 0.23051921]\n",
      "\n",
      "Función lógica XOR\n",
      "Con Perceptron con 2 variables\n",
      "En la corrida 0 del la fila 0 con error=1.5\n",
      "guarde estos Pesos: w1=0.1800209057015479 w2=0.3539193160114763 \n",
      "Pesos finales: w1=0.1800209057015479 w2=0.3539193160114763\n",
      "\n",
      "Con Perceptron con 'u' variables\n",
      "En la corrida 0 del la fila 0 con error=1.5\n",
      "Guarde estos valores: [0.79618669 0.35126823]\n",
      "Pesos finales: [0.79618669 0.35126823]\n"
     ]
    }
   ],
   "source": [
    "from main import main\n",
    "\n",
    "main()"
   ]
  },
  {
   "cell_type": "code",
   "execution_count": null,
   "metadata": {},
   "outputs": [],
   "source": [
    "import numpy as np\n",
    "import random\n",
    "import pandas as pd\n",
    "\n",
    "# Ruta del archivo CSV\n",
    "archivo_csv = \"TP3-ej2-conjunto.csv\"\n",
    "# Leer datos CSV en un DataFrame de pandas\n",
    "datos_df = pd.read_csv(archivo_csv)\n",
    "# Convertir DataFrame a un array de NumPy\n",
    "datos_array = datos_df.to_numpy()\n",
    "# Extract feature columns (x1, x2, x3) into 'x' array\n",
    "x = datos_array[:, :-1]  # Assuming 'y' is the last column\n",
    "\n",
    "# Extract target column (y) into 'y' array\n",
    "y = datos_array[:, -1]\n",
    "\n",
    "w = np.array([random.random() for i in range(x.shape[1])]) \n",
    "w_new = np.zeros_like(w, dtype=np.float32)\n",
    "\n"
   ]
  },
  {
   "cell_type": "code",
   "execution_count": 2,
   "metadata": {},
   "outputs": [
    {
     "name": "stdout",
     "output_type": "stream",
     "text": [
      "1.0\n",
      "1.0\n",
      "2.0\n"
     ]
    }
   ],
   "source": [
    "import numpy as np\n",
    "\n",
    "x = np.array([[1, 2], [3, 4]])\n",
    "y = np.array([-1, 1])\n",
    "w = np.array([1, 1])\n",
    "\n",
    "\n",
    "error = 0\n",
    "y_pred = np.zeros_like(w, dtype=np.float32)\n",
    "for u in range(x.shape[0]):\n",
    "    z=0\n",
    "    for i in range(x.shape[1]):\n",
    "        z = z + w[i] * x[u, i] \n",
    "    y_pred[u] = 1 if z >= 0 else 0\n",
    "    print(y_pred[u])\n",
    "    error += (y_pred[u] - y[u])**2\n",
    "\n",
    "e = error / len(x)\n",
    "\n",
    "print(e)\n"
   ]
  }
 ],
 "metadata": {
  "kernelspec": {
   "display_name": "Python 3",
   "language": "python",
   "name": "python3"
  },
  "language_info": {
   "codemirror_mode": {
    "name": "ipython",
    "version": 3
   },
   "file_extension": ".py",
   "mimetype": "text/x-python",
   "name": "python",
   "nbconvert_exporter": "python",
   "pygments_lexer": "ipython3",
   "version": "3.12.2"
  }
 },
 "nbformat": 4,
 "nbformat_minor": 2
}
