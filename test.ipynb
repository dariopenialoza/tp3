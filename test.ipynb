{
 "cells": [
  {
   "cell_type": "code",
   "execution_count": 1,
   "metadata": {},
   "outputs": [
    {
     "name": "stdout",
     "output_type": "stream",
     "text": [
      "Función lógica AND\n",
      "Entrenando con Perceptron Simple Escalon\n",
      "En la corrida 0 del la fila 0 con error=1.0\n",
      "Guarde estos valores: [0.86055693 0.69935753]\n",
      "Pesos finales: [0.86055693 0.69935753] \n",
      "Generalizando con Perceptron Simple Escalon\n",
      "Entrada: [[-1  1]\n",
      " [ 1 -1]\n",
      " [-1 -1]\n",
      " [ 1  1]]\n",
      "Resultado: [-1  1 -1  1]\n",
      "\n",
      "Función lógica XOR\n",
      "Entrenando con Perceptron Simple Escalon\n",
      "En la corrida 0 del la fila 0 con error=2.0\n",
      "Guarde estos valores: [-0.01791219  0.28533704]\n",
      "Pesos finales: [-0.01791219  0.28533704] \n",
      "Generalizando con Perceptron Simple Escalon\n",
      "Entrada: [[-1  1]\n",
      " [ 1 -1]\n",
      " [-1 -1]\n",
      " [ 1  1]]\n",
      "Resultado: [ 1 -1 -1  1]\n"
     ]
    }
   ],
   "source": [
    "from main import main\n",
    "\n",
    "main()"
   ]
  }
 ],
 "metadata": {
  "kernelspec": {
   "display_name": "Python 3",
   "language": "python",
   "name": "python3"
  },
  "language_info": {
   "codemirror_mode": {
    "name": "ipython",
    "version": 3
   },
   "file_extension": ".py",
   "mimetype": "text/x-python",
   "name": "python",
   "nbconvert_exporter": "python",
   "pygments_lexer": "ipython3",
   "version": "3.12.2"
  }
 },
 "nbformat": 4,
 "nbformat_minor": 2
}
