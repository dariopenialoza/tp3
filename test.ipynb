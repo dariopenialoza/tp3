{
 "cells": [
  {
   "cell_type": "code",
   "execution_count": 1,
   "metadata": {},
   "outputs": [
    {
     "name": "stdout",
     "output_type": "stream",
     "text": [
      "Pesos finales: 100.57306780783684 100.71281047473637\n"
     ]
    }
   ],
   "source": [
    "import numpy as np\n",
    "\n",
    "# Definir los datos de entrenamiento\n",
    "x = np.array([[-1, 1], [1, -1], [-1, -1], [1, 1]])\n",
    "y = np.array([-1, -1, -1, 1])\n",
    "\n",
    "# Inicializar los pesos aleatoriamente\n",
    "w1 = np.random.rand()\n",
    "w2 = np.random.rand()\n",
    "\n",
    "# Definir el factor de aprendizaje\n",
    "alpha = 0.1\n",
    "\n",
    "# Ciclo de entrenamiento\n",
    "for epoch in range(1000):\n",
    "    for i in range(len(x)):\n",
    "        # Calcular la salida bruta\n",
    "        z = w1 * x[i, 0] + w2 * x[i, 1]\n",
    "\n",
    "        # Aplicar la función de activación escalón\n",
    "        y_pred = 1 if z >= 0 else 0\n",
    "\n",
    "        # Actualizar los pesos\n",
    "        w1_new = w1 + alpha * (y[i] - y_pred) * x[i, 0]\n",
    "        w2_new = w2 + alpha * (y[i] - y_pred) * x[i, 1]\n",
    "\n",
    "        # Actualizar los pesos\n",
    "        w1 = w1_new\n",
    "        w2 = w2_new\n",
    "\n",
    "# Imprimir los pesos finales\n",
    "print(\"Pesos finales:\", w1, w2)\n"
   ]
  },
  {
   "cell_type": "code",
   "execution_count": 14,
   "metadata": {},
   "outputs": [
    {
     "name": "stdout",
     "output_type": "stream",
     "text": [
      "Pesos: w1=0.3965579529042811 w2=-0.023291827046022312\n"
     ]
    }
   ],
   "source": [
    "import sys\n",
    "import numpy as np\n",
    "\n",
    "def compute_error2v(x, y, w1, w2):\n",
    "    error = 0\n",
    "    y_pred = np.array([0, 0, 0, 0])\n",
    "    for i in range(len(x)):\n",
    "        z = w1 * x[i, 0] + w2 * x[i, 1]\n",
    "        y_pred[i] = 1 if z >= 0 else 0\n",
    "        error += (y_pred[i] - y[i])**2\n",
    "    return error / len(x)\n",
    "\n",
    "# Definir los datos de entrenamiento\n",
    "x = np.array([[-1, 1], [1, -1], [-1, -1], [1, 1]])\n",
    "y = np.array([-1, -1, -1, 1])\n",
    "\n",
    "error = 0       \n",
    "min_error = sys.maxsize \n",
    "w_min = np.array([0, 0])    \n",
    "epoch = 1000    \n",
    "c = 0           # corrida\n",
    "# Inicializar los pesos aleatoriamente\n",
    "w1 = np.random.rand()\n",
    "w2 = np.random.rand()\n",
    "\n",
    "# Definir el factor de aprendizaje\n",
    "alpha = 0.1\n",
    "\n",
    "# Ciclo de entrenamiento\n",
    "for i in range(len(x)):\n",
    "    while (min_error > 0) and (c < epoch):\n",
    "        # Calcular la salida bruta\n",
    "        z = w1 * x[i, 0] + w2 * x[i, 1]\n",
    "\n",
    "        # Aplicar la función de activación escalón\n",
    "        y_pred = 1 if z >= 0 else 0\n",
    "\n",
    "        # Actualizar los pesos\n",
    "        w1_new = w1 + alpha * (y[i] - y_pred) * x[i, 0]\n",
    "        w2_new = w2 + alpha * (y[i] - y_pred) * x[i, 1]\n",
    "\n",
    "        # Actualizar los pesos\n",
    "        w1 = w1_new\n",
    "        w2 = w2_new\n",
    "\n",
    "        error = compute_error2v(x, y, w1, w2)\n",
    "        if error < min_error:\n",
    "            min_error = error\n",
    "            w_min = [w1, w2]\n",
    "\n",
    "        c += 1\n",
    "\n",
    "# Imprimir los pesos finales\n",
    "print(f'Pesos: w1={w_min[0]} w2={w_min[1]}')\n"
   ]
  }
 ],
 "metadata": {
  "kernelspec": {
   "display_name": "Python 3",
   "language": "python",
   "name": "python3"
  },
  "language_info": {
   "codemirror_mode": {
    "name": "ipython",
    "version": 3
   },
   "file_extension": ".py",
   "mimetype": "text/x-python",
   "name": "python",
   "nbconvert_exporter": "python",
   "pygments_lexer": "ipython3",
   "version": "3.12.2"
  }
 },
 "nbformat": 4,
 "nbformat_minor": 2
}
