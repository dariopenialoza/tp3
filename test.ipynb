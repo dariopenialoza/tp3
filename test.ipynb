{
 "cells": [
  {
   "cell_type": "code",
   "execution_count": 1,
   "metadata": {},
   "outputs": [
    {
     "name": "stdout",
     "output_type": "stream",
     "text": [
      "Función lógica AND\n",
      "Con Perceptron con 2 variables\n",
      "Pesos Nuevos: w1=0.21396577593576044 w2=0.23176304302110867 error=1.5\n",
      "Con Perceptron con 'u' variables\n",
      "z=-0.4353616438141793\n",
      "z=0.6353615820407867\n",
      "z=-1.3933666944503784\n",
      "z=1.5933667421340942\n",
      "[0.91436416 0.67900258]\n",
      "Función lógica XOR\n",
      "Con Perceptron con 2 variables\n",
      "Pesos Nuevos: w1=0.7713128947266934 w2=0.9457737996124884 error=1.5\n",
      "Con Perceptron con 'u' variables\n",
      "z=-0.49485176166853484\n",
      "z=0.29485177993774414\n",
      "z=-0.7457588911056519\n",
      "z=0.9457589089870453\n",
      "[0.42030537 0.12545355]\n"
     ]
    }
   ],
   "source": [
    "from main import main\n",
    "\n",
    "main()"
   ]
  },
  {
   "cell_type": "code",
   "execution_count": null,
   "metadata": {},
   "outputs": [],
   "source": [
    "import numpy as np\n",
    "datos = np.genfromtxt('TP3-ej2-conjunto.csv', delimiter=\",\")\n",
    "datos"
   ]
  },
  {
   "cell_type": "code",
   "execution_count": null,
   "metadata": {},
   "outputs": [],
   "source": [
    "import numpy as np\n",
    "\n",
    "def compute_error_step(x, y, w):\n",
    "\n",
    "    error = 0\n",
    "    for u in range(x.shape[0]):\n",
    "        z = 0\n",
    "        for i in range(x.shape[1]):\n",
    "            z = z + w[i] * x[u, i] \n",
    "        y_pred = 1 if z >= 0 else 0      # Activador escalon\n",
    "        error += (y_pred - y[u])**2\n",
    "\n",
    "    return error / len(x)\n",
    "\n",
    "\n",
    "import sys\n",
    "import numpy as np\n",
    "import random\n",
    "import pandas as pd\n",
    "\n",
    "# Ruta del archivo CSV\n",
    "archivo_csv = \"TP3-ej2-conjunto.csv\"\n",
    "# Leer datos CSV en un DataFrame de pandas\n",
    "datos_df = pd.read_csv(archivo_csv)\n",
    "# Convertir DataFrame a un array de NumPy\n",
    "datos_array = datos_df.to_numpy()\n",
    "# Extract feature columns (x1, x2, x3) into 'x' array\n",
    "x = datos_array[:, :-1]  # Assuming 'y' is the last column\n",
    "\n",
    "# Extract target column (y) into 'y' array\n",
    "y = datos_array[:, -1]\n",
    "\n",
    "eta = 0.1\n",
    "epoch = 100   \n",
    "\n",
    "def perceptron_simple_step(x, y, eta, epoch):\n",
    "    # Inicializar los pesos aleatoriamente\n",
    "    w = np.array([random.random() for i in range(x.shape[1])]) \n",
    "    w_new = np.zeros_like(w, dtype=np.float32)\n",
    "\n",
    "    error = 0       \n",
    "    min_error = sys.maxsize \n",
    "    w_min = np.zeros_like(w, dtype=np.float32)   \n",
    "\n",
    "    for u in range(len(x)):\n",
    "        c = 0           # corrida\n",
    "        while (min_error > 0) and (c < epoch):\n",
    "            # Calcular la salida bruta\n",
    "            z=0\n",
    "            for i in range(x.shape[1]):\n",
    "                z = z + w[i] * x[u, i] \n",
    "\n",
    "            # Aplicar la función de activación escalón\n",
    "            y_pred = 1 if z >= 0 else 0\n",
    "\n",
    "            # Actualizar los pesos\n",
    "            for j in range(x.shape[1]):\n",
    "                w_new[j] = w[j] + eta * (y[u] - y_pred) * x[u, j]\n",
    "                # Actualizar los pesos\n",
    "                w[j] = w_new[j]\n",
    "\n",
    "            error = compute_error_step(x, y, w)\n",
    "            if error < min_error:\n",
    "                min_error = error\n",
    "                w_min = w\n",
    "\n",
    "            c += 1\n",
    "    return w_min\n",
    "\n",
    "perceptron_simple_step(x,y,eta,epoch)"
   ]
  },
  {
   "cell_type": "code",
   "execution_count": null,
   "metadata": {},
   "outputs": [],
   "source": [
    "import numpy as np\n",
    "import random\n",
    "\n",
    "alpha = 0.1\n",
    "x = np.array([[1, 2], [3, 4]])\n",
    "y = np.array([-1, -1, -1, 1])\n",
    "w = np.array([1, 1])\n",
    "w_new = np.array(x.shape[1]) \n",
    "\n",
    "w_new"
   ]
  },
  {
   "cell_type": "code",
   "execution_count": null,
   "metadata": {},
   "outputs": [],
   "source": [
    "for i in range(2):\n",
    "        print(i)"
   ]
  },
  {
   "cell_type": "code",
   "execution_count": null,
   "metadata": {},
   "outputs": [],
   "source": [
    "x = np.array([[1, 1], [4, 5]])\n",
    "\n",
    "for i in range(x.shape[1]):\n",
    "        print(i)"
   ]
  },
  {
   "cell_type": "code",
   "execution_count": null,
   "metadata": {},
   "outputs": [],
   "source": [
    "import pandas as pd\n",
    "\n",
    "# Ruta del archivo CSV\n",
    "archivo_csv = \"TP3-ej2-conjunto.csv\"\n",
    "\n",
    "# Leer datos CSV en un DataFrame de pandas\n",
    "datos_df = pd.read_csv(archivo_csv)\n",
    "\n",
    "# Convertir DataFrame a un array de NumPy\n",
    "datos_array = datos_df.to_numpy()\n",
    "\n",
    "datos_array"
   ]
  },
  {
   "cell_type": "code",
   "execution_count": null,
   "metadata": {},
   "outputs": [],
   "source": [
    "import numpy as np\n",
    "import random\n",
    "import pandas as pd\n",
    "\n",
    "# Ruta del archivo CSV\n",
    "archivo_csv = \"TP3-ej2-conjunto.csv\"\n",
    "# Leer datos CSV en un DataFrame de pandas\n",
    "datos_df = pd.read_csv(archivo_csv)\n",
    "# Convertir DataFrame a un array de NumPy\n",
    "datos_array = datos_df.to_numpy()\n",
    "# Extract feature columns (x1, x2, x3) into 'x' array\n",
    "x = datos_array[:, :-1]  # Assuming 'y' is the last column\n",
    "\n",
    "# Extract target column (y) into 'y' array\n",
    "y = datos_array[:, -1]\n",
    "\n",
    "w = np.array([random.random() for i in range(x.shape[1])]) \n",
    "w_new = np.zeros_like(w, dtype=np.float32)\n",
    "\n"
   ]
  },
  {
   "cell_type": "code",
   "execution_count": null,
   "metadata": {},
   "outputs": [],
   "source": [
    "import numpy as np\n",
    "\n",
    "x = np.array([[1, 2], [3, 4]])\n",
    "y = np.array([-1, 1])\n",
    "w = np.array([1, 1])\n",
    "\n",
    "\n",
    "error = 0\n",
    "y_pred = np.zeros_like(w, dtype=np.float32)\n",
    "for u in range(x.shape[0]):\n",
    "    z=0\n",
    "    for i in range(x.shape[1]):\n",
    "        z = z + w[i] * x[u, i] \n",
    "    y_pred[u] = 1 if z >= 0 else 0\n",
    "    print(y_pred[u])\n",
    "    error += (y_pred[u] - y[u])**2\n",
    "\n",
    "e = error / len(x)\n",
    "\n",
    "print(e)\n"
   ]
  }
 ],
 "metadata": {
  "kernelspec": {
   "display_name": "Python 3",
   "language": "python",
   "name": "python3"
  },
  "language_info": {
   "codemirror_mode": {
    "name": "ipython",
    "version": 3
   },
   "file_extension": ".py",
   "mimetype": "text/x-python",
   "name": "python",
   "nbconvert_exporter": "python",
   "pygments_lexer": "ipython3",
   "version": "3.12.2"
  }
 },
 "nbformat": 4,
 "nbformat_minor": 2
}
