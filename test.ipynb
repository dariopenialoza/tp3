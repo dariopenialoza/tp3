{
 "cells": [
  {
   "cell_type": "code",
   "execution_count": 2,
   "metadata": {},
   "outputs": [
    {
     "name": "stdout",
     "output_type": "stream",
     "text": [
      "TP 3: PERCEPTRON SIMPLE\n",
      "EJERCIO 1\n",
      "Función lógica AND\n",
      "Entrenando con Perceptron Simple Escalon\n",
      "Pesos finales: [0.59522193 0.59273798] \n",
      "Generalizando con Perceptron Simple Escalon\n",
      "Entrada: [[-1  1]\n",
      " [ 1 -1]\n",
      " [-1 -1]\n",
      " [ 1  1]]\n",
      "Resultado: [-1  1 -1  1]\n",
      "\n",
      "Función lógica XOR\n",
      "Entrenando con Perceptron Simple Escalon\n",
      "Pesos finales: [0.49261894 0.73761739] \n",
      "Generalizando con Perceptron Simple Escalon\n",
      "Entrada: [[-1  1]\n",
      " [ 1 -1]\n",
      " [-1 -1]\n",
      " [ 1  1]]\n",
      "Resultado: [ 1 -1 -1  1]\n",
      "EJERCIO 2\n"
     ]
    }
   ],
   "source": [
    "from main import main\n",
    "\n",
    "main()"
   ]
  }
 ],
 "metadata": {
  "kernelspec": {
   "display_name": "Python 3",
   "language": "python",
   "name": "python3"
  },
  "language_info": {
   "codemirror_mode": {
    "name": "ipython",
    "version": 3
   },
   "file_extension": ".py",
   "mimetype": "text/x-python",
   "name": "python",
   "nbconvert_exporter": "python",
   "pygments_lexer": "ipython3",
   "version": "3.12.2"
  }
 },
 "nbformat": 4,
 "nbformat_minor": 2
}
