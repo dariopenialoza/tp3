{
 "cells": [
  {
   "cell_type": "code",
   "execution_count": 3,
   "metadata": {},
   "outputs": [
    {
     "name": "stdout",
     "output_type": "stream",
     "text": [
      "TP 3: PERCEPTRON SIMPLE\n",
      "EJERCIO 1\n",
      "Función lógica AND\n",
      "Entrenando con Perceptron Simple Escalon\n",
      "Pesos finales: [0.2653364  0.29701921] \n",
      "Generalizando con Perceptron Simple Escalon\n",
      "Entrada: [[-1  1]\n",
      " [ 1 -1]\n",
      " [-1 -1]\n",
      " [ 1  1]]\n",
      "Resultado: [ 1 -1 -1  1]\n",
      "\n",
      "Función lógica XOR\n",
      "Entrenando con Perceptron Simple Escalon\n",
      "Pesos finales: [0.81279693 0.43250181] \n",
      "Generalizando con Perceptron Simple Escalon\n",
      "Entrada: [[-1  1]\n",
      " [ 1 -1]\n",
      " [-1 -1]\n",
      " [ 1  1]]\n",
      "Resultado: [-1  1 -1  1]\n",
      "EJERCIO 2\n",
      "Entrenando con Perceptron Simple Lineal\n",
      "Pesos finales: [0.41957864 0.34482472 0.46688833] \n"
     ]
    },
    {
     "name": "stderr",
     "output_type": "stream",
     "text": [
      "c:\\Users\\dpenaloza\\Downloads\\SIA\\tp3\\tp3\\src\\perceptron_simple_lineal.py:24: RuntimeWarning: overflow encountered in scalar power\n",
      "  error += (y[u] - o)**2\n",
      "c:\\Users\\dpenaloza\\Downloads\\SIA\\tp3\\tp3\\src\\perceptron_simple_lineal.py:67: RuntimeWarning: overflow encountered in scalar multiply\n",
      "  dw = eta * (y[u] - o) * h * x[u]\n",
      "c:\\Users\\dpenaloza\\Downloads\\SIA\\tp3\\tp3\\src\\perceptron_simple_lineal.py:67: RuntimeWarning: invalid value encountered in multiply\n",
      "  dw = eta * (y[u] - o) * h * x[u]\n"
     ]
    }
   ],
   "source": [
    "from main import main\n",
    "\n",
    "main()"
   ]
  }
 ],
 "metadata": {
  "kernelspec": {
   "display_name": "Python 3",
   "language": "python",
   "name": "python3"
  },
  "language_info": {
   "codemirror_mode": {
    "name": "ipython",
    "version": 3
   },
   "file_extension": ".py",
   "mimetype": "text/x-python",
   "name": "python",
   "nbconvert_exporter": "python",
   "pygments_lexer": "ipython3",
   "version": "3.12.2"
  }
 },
 "nbformat": 4,
 "nbformat_minor": 2
}
